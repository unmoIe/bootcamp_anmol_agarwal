{
 "cells": [
  {
   "cell_type": "markdown",
   "id": "d88726bb-2779-4c0d-b272-777c4eb0478e",
   "metadata": {},
   "source": [
    "## Problem Statement\n",
    "**Predict short term volatility(daily) in the stock market**    \n",
    "Forecasting daily stock market volatility is essential for portfolio risk management.  \n",
    "Volatility reflects the degree of variation in stock returns, and sudden spikes can significantly impact portfolio performance.\n",
    "Predicting short-term volatility is challenging due to market noise, regime changes, and macroeconomic factors.    \n",
    "A reliable predictive model can provide portfolio managers with daily forecasts, enabling timely risk adjustments, efficient capital allocation, and informed trading decisions to improve portfolio expected returns.     \n",
    "\n",
    "## Stakeholder & User\n",
    "The primary stakeholders are portfolio managers, they can use accurate future volatility estimates to better hedge out their positions, adapt trading strategies, and improve returns for the portfolio.  \n",
    "They will use the volatility predictions in their existing workflows, allowing them to adjust position sizing, stop-loss levels, and hedges in real-time.   \n",
    "Decisions based on the predicted volatility will be made before the market opens each day, using the daily predicted volatility, ensuring the forecasts integrate seamlessly with intraday trading strategies.   \n",
    "\n",
    "## Useful Answer & Decision\n",
    "This is a predictive model which gives a daily volatility forecast.   \n",
    "Artifact to deliver is a predictive model written in python, that returns daily volatility of the market and also backtests results on historical data.   \n",
    "\n",
    "## Assumptions & Constraints\n",
    "The model assumes that past market behaviour is indicative of the near-term future.   \n",
    "Real time data availability is a constraint of this model to be able to predict future volatility.   \n",
    "Demand for computing resources is a constraint.   \n",
    "The model should have a low latency to ensure as close to real-time volatility prediction as possible.   \n",
    "\n",
    "## Known/Unknowns Risks\n",
    "Black swan events or outliers which are tough to predict are a source of known risk.   \n",
    "Model hyperparameters may require tuning; performance may vary across stocks/sectors.   \n",
    "Monitoring plan: Compare predicted vs. realized volatility daily; log errors for model refinement.   \n",
    "\n",
    "## Lifecycle Mapping   \n",
    "Goal → Stage → Deliverable  \n",
    "Forecast daily stock volatility → Problem Framing & Scoping (Stage 01) → Deliverable: Project scope document, stakeholder mapping  \n",
    "Prepare & clean historical data → Data collection and preprocessing → Deliverable: Cleaned dataset and data dictionary  \n",
    "Build predictive model → Modeling → Deliverable: Python model with predictions  \n",
    "Validate model performance → Evaluation and Backtesting → Deliverable: Forecast accuracy report, visualization plots.  \n",
    "Integrate into workflow → Deployment/Artifact Delivery → Deliverable: Reproducible python project with daily forecast outputs.  \n",
    "\n",
    "## Repo Plan\n",
    "/data - Raw and cleaned historical stock data  \n",
    "/src - Python scripts for data processing and modeling  \n",
    "/notebooks - Jupyter notebooks for exploration, modeling, and backtesting  \n",
    "/docs - Project documentation, reports, and visualizations  \n",
    "cadence for updates - Weekly commits for model development; daily updates for results/forecast logs during testing phase. \n"
   ]
  }
 ],
 "metadata": {
  "kernelspec": {
   "display_name": "Python 3 (ipykernel)",
   "language": "python",
   "name": "python3"
  },
  "language_info": {
   "codemirror_mode": {
    "name": "ipython",
    "version": 3
   },
   "file_extension": ".py",
   "mimetype": "text/x-python",
   "name": "python",
   "nbconvert_exporter": "python",
   "pygments_lexer": "ipython3",
   "version": "3.11.13"
  }
 },
 "nbformat": 4,
 "nbformat_minor": 5
}
