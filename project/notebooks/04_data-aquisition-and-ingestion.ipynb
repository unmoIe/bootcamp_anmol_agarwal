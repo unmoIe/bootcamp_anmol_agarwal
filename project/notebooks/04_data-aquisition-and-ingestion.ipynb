{
 "cells": [
  {
   "cell_type": "markdown",
   "id": "5346468c-49d3-480c-8005-a4007c9cb93c",
   "metadata": {},
   "source": [
    "# API Pull"
   ]
  },
  {
   "cell_type": "code",
   "execution_count": 15,
   "id": "35c7b871-0178-414c-a837-e7c80d2e3928",
   "metadata": {},
   "outputs": [
    {
     "name": "stdout",
     "output_type": "stream",
     "text": [
      "Need subscription for alphavantge, now trying yfinance\n"
     ]
    },
    {
     "name": "stderr",
     "output_type": "stream",
     "text": [
      "[*********************100%***********************]  1 of 1 completed\n",
      "\n",
      "1 Failed download:\n",
      "['AAPL']: YFRateLimitError('Too Many Requests. Rate limited. Try after a while.')\n"
     ]
    },
    {
     "name": "stdout",
     "output_type": "stream",
     "text": [
      "Could not get data from yfinance, getting throttled\n",
      "Sleeping for 5 secs\n",
      "Need subscription for alphavantge, now trying yfinance\n"
     ]
    },
    {
     "name": "stderr",
     "output_type": "stream",
     "text": [
      "[*********************100%***********************]  1 of 1 completed\n",
      "\n",
      "1 Failed download:\n",
      "['AAPL']: YFRateLimitError('Too Many Requests. Rate limited. Try after a while.')\n"
     ]
    },
    {
     "name": "stdout",
     "output_type": "stream",
     "text": [
      "Could not get data from yfinance, getting throttled\n",
      "Sleeping for 5 secs\n",
      "Need subscription for alphavantge, now trying yfinance\n"
     ]
    },
    {
     "name": "stderr",
     "output_type": "stream",
     "text": [
      "[*********************100%***********************]  1 of 1 completed\n",
      "\n",
      "1 Failed download:\n",
      "['AAPL']: YFRateLimitError('Too Many Requests. Rate limited. Try after a while.')\n"
     ]
    },
    {
     "name": "stdout",
     "output_type": "stream",
     "text": [
      "Could not get data from yfinance, getting throttled\n",
      "Sleeping for 5 secs\n",
      "Need subscription for alphavantge, now trying yfinance\n"
     ]
    },
    {
     "name": "stderr",
     "output_type": "stream",
     "text": [
      "[*********************100%***********************]  1 of 1 completed\n",
      "\n",
      "1 Failed download:\n",
      "['AAPL']: YFRateLimitError('Too Many Requests. Rate limited. Try after a while.')\n"
     ]
    },
    {
     "name": "stdout",
     "output_type": "stream",
     "text": [
      "Could not get data from yfinance, getting throttled\n",
      "Sleeping for 5 secs\n",
      "Need subscription for alphavantge, now trying yfinance\n"
     ]
    },
    {
     "name": "stderr",
     "output_type": "stream",
     "text": [
      "[*********************100%***********************]  1 of 1 completed\n",
      "\n",
      "1 Failed download:\n",
      "['AAPL']: YFRateLimitError('Too Many Requests. Rate limited. Try after a while.')\n"
     ]
    },
    {
     "name": "stdout",
     "output_type": "stream",
     "text": [
      "Could not get data from yfinance, getting throttled\n",
      "Sleeping for 5 secs\n",
      "Retry count reached 5. Could not get data. Falling back to locally stored backup data.\n"
     ]
    }
   ],
   "source": [
    "import os\n",
    "import yfinance as yf\n",
    "import requests\n",
    "import time\n",
    "import sys\n",
    "import pandas as pd\n",
    "import numpy as np\n",
    "sys.path.append(\"..\")\n",
    "from src.utils import * \n",
    "from src.config import *\n",
    "\n",
    "count=0\n",
    "source=\"Local\"\n",
    "max_count=5\n",
    "api_key = get_key(\"API_KEY\")\n",
    "ticker = \"AAPL\"\n",
    "\n",
    "while(count<max_count):\n",
    "    try:\n",
    "        url = \"https://www.alphavantage.co/query\"\n",
    "        params = {\n",
    "                \"function\": \"TIME_SERIES_DAILY\",\n",
    "                \"symbol\": ticker,\n",
    "                \"outputsize\": \"compact\",\n",
    "                \"apikey\": api_key,\n",
    "                \"datatype\": \"json\"\n",
    "        }\n",
    "        r = requests.get(url, params=params, timeout=30)\n",
    "        if(r.json().get('Information') is not None and \"subscribe\" in r.json().get('Information')):\n",
    "            print(\"Need subscription for alphavantge, now trying yfinance\")\n",
    "            data = yf.download(ticker, start=\"2024-01-01\", end=\"2024-02-01\", interval=\"1d\").reset_index()\n",
    "            if( data.empty ):\n",
    "                raise Exception(\"Could not get data from yfinance, getting throttled\")\n",
    "            print(f\"Got data for {ticker} from yfinance\")\n",
    "            source=\"YFinance\"\n",
    "            break\n",
    "        else:\n",
    "            r.raise_for_status()\n",
    "            js = r.json()\n",
    "            key = [k for k in js.keys() if \"Time Series\" in k]\n",
    "            assert key, f\"Unexpected response keys: {list(js.keys())}\"\n",
    "            series = js[key[0]]\n",
    "            data = (pd.DataFrame(series).T\n",
    "                      .rename_axis('date')\n",
    "                      .reset_index())\n",
    "            # keep a couple columns and coerce types\n",
    "            data = data.rename(columns={'date':'Date', '4. close': 'Close', '2. high':'High','3. low':'Low', '1. open':'Open', '5. volume':'Volume'})       \n",
    "            print(f\"Got data for {ticker} from alphavantage\")\n",
    "            source=\"AlphaVantage\"\n",
    "            break\n",
    "    except Exception as e:\n",
    "        print(e)\n",
    "        print(\"Sleeping for 5 secs\")\n",
    "        time.sleep(5)\n",
    "        count+=1\n",
    "    finally:\n",
    "        if(count==max_count):\n",
    "            print(f\"Retry count reached {max_count}. Could not get data. Falling back to locally stored backup data.\")\n",
    "            data = pd.read_csv(\"../data/sample.csv\")\n",
    "        "
   ]
  },
  {
   "cell_type": "code",
   "execution_count": 26,
   "id": "6c3627a4-9d9e-4542-9c15-f60b9cc1fc56",
   "metadata": {},
   "outputs": [
    {
     "name": "stdout",
     "output_type": "stream",
     "text": [
      "Successfully saved file to:  ../data/raw\n"
     ]
    }
   ],
   "source": [
    "\n",
    "dtypes_map = { k[0]:v for k,v in data.dtypes.to_dict().items() }\n",
    "msgs = validate_df( data, [\"Date\", \"Close\", \"High\", \"Low\", \"Open\", \"Volume\"], dtypes_map, ticker, (21,6) )\n",
    "\n",
    "# Save CSV\n",
    "fname = get_filename(\"api\",{'source':source, 'ticker':ticker},\"csv\")\n",
    "write_df( data, False, \"csv\", fname )"
   ]
  },
  {
   "cell_type": "markdown",
   "id": "755ff549-570d-43f9-81e9-5f4298965f6d",
   "metadata": {},
   "source": [
    "# Scrape a small table"
   ]
  },
  {
   "cell_type": "code",
   "execution_count": 27,
   "id": "85014e33-2c87-487d-915d-f34eaa97cbcb",
   "metadata": {},
   "outputs": [],
   "source": [
    "import pandas as pd\n",
    "from bs4 import BeautifulSoup\n",
    "import pdb\n",
    "url = \"https://en.wikipedia.org/wiki/List_of_countries_and_dependencies_by_population\"\n",
    "\n",
    "try:\n",
    "    # Step 1: Get HTML\n",
    "    resp = requests.get(url)\n",
    "    resp.raise_for_status()\n",
    "    \n",
    "    # Step 2: Parse HTML\n",
    "    soup = BeautifulSoup(resp.text, \"html.parser\")\n",
    "    \n",
    "    # Step 3: Select the first wikitable\n",
    "    table = soup.find(\"table\", {\"class\": \"wikitable\"})\n",
    "    \n",
    "    # Step 4: Extract rows\n",
    "    rows = []\n",
    "    for tr in table.find_all('tr'):\n",
    "        # Get all 'th' and 'td' cells\n",
    "        cells = [k.get_text(strip=True) for k in tr.find_all(['th', 'td'])]\n",
    "        if cells:\n",
    "            rows.append(cells)\n",
    "    # Use the first row as header\n",
    "    header = rows[0]\n",
    "    \n",
    "    # Normalize each data row to match header length\n",
    "    data = []\n",
    "    for row in rows[1:]:\n",
    "        if len(row) < len(header):\n",
    "            row += [\"\"] * (len(header) - len(row))  # pad missing cells\n",
    "        elif len(row) > len(header):\n",
    "            row = row[:len(header)]  # truncate extra cells\n",
    "        data.append(row)\n",
    "    \n",
    "    # Step 6: Create DataFrame\n",
    "    df_scrape = pd.DataFrame(data, columns=header)\n",
    "except Exception as e:\n",
    "    print(\"Error:\", e)"
   ]
  },
  {
   "cell_type": "code",
   "execution_count": 28,
   "id": "b80b0a4f-f7fa-4df4-9a8b-4542d162d359",
   "metadata": {},
   "outputs": [
    {
     "name": "stdout",
     "output_type": "stream",
     "text": [
      "        Location     Population % ofworld         Date  \\\n",
      "0          World  8,232,000,000      100%  13 Jun 2025   \n",
      "1          India  1,417,492,000     17.3%   1 Jul 2025   \n",
      "2          China  1,408,280,000     17.2%  31 Dec 2024   \n",
      "3  United States    340,110,988      4.1%   1 Jul 2024   \n",
      "4      Indonesia    284,438,782      3.5%  30 Jun 2025   \n",
      "\n",
      "  Source (official or fromtheUnited Nations) Notes  \n",
      "0                        UN projection[1][3]        \n",
      "1                     Official projection[4]   [b]  \n",
      "2                       Official estimate[5]   [c]  \n",
      "3                       Official estimate[6]   [d]  \n",
      "4              National annual projection[7]        \n"
     ]
    },
    {
     "data": {
      "text/html": [
       "<div>\n",
       "<style scoped>\n",
       "    .dataframe tbody tr th:only-of-type {\n",
       "        vertical-align: middle;\n",
       "    }\n",
       "\n",
       "    .dataframe tbody tr th {\n",
       "        vertical-align: top;\n",
       "    }\n",
       "\n",
       "    .dataframe thead th {\n",
       "        text-align: right;\n",
       "    }\n",
       "</style>\n",
       "<table border=\"1\" class=\"dataframe\">\n",
       "  <thead>\n",
       "    <tr style=\"text-align: right;\">\n",
       "      <th></th>\n",
       "      <th>Location</th>\n",
       "      <th>Population</th>\n",
       "      <th>% ofworld</th>\n",
       "      <th>Date</th>\n",
       "    </tr>\n",
       "  </thead>\n",
       "  <tbody>\n",
       "    <tr>\n",
       "      <th>0</th>\n",
       "      <td>World</td>\n",
       "      <td>8232000000</td>\n",
       "      <td>100.0</td>\n",
       "      <td>2025-06-13</td>\n",
       "    </tr>\n",
       "    <tr>\n",
       "      <th>1</th>\n",
       "      <td>India</td>\n",
       "      <td>1417492000</td>\n",
       "      <td>17.3</td>\n",
       "      <td>2025-07-01</td>\n",
       "    </tr>\n",
       "    <tr>\n",
       "      <th>2</th>\n",
       "      <td>China</td>\n",
       "      <td>1408280000</td>\n",
       "      <td>17.2</td>\n",
       "      <td>2024-12-31</td>\n",
       "    </tr>\n",
       "    <tr>\n",
       "      <th>3</th>\n",
       "      <td>United States</td>\n",
       "      <td>340110988</td>\n",
       "      <td>4.1</td>\n",
       "      <td>2024-07-01</td>\n",
       "    </tr>\n",
       "    <tr>\n",
       "      <th>4</th>\n",
       "      <td>Indonesia</td>\n",
       "      <td>284438782</td>\n",
       "      <td>3.5</td>\n",
       "      <td>2025-06-30</td>\n",
       "    </tr>\n",
       "  </tbody>\n",
       "</table>\n",
       "</div>"
      ],
      "text/plain": [
       "        Location  Population  % ofworld       Date\n",
       "0          World  8232000000      100.0 2025-06-13\n",
       "1          India  1417492000       17.3 2025-07-01\n",
       "2          China  1408280000       17.2 2024-12-31\n",
       "3  United States   340110988        4.1 2024-07-01\n",
       "4      Indonesia   284438782        3.5 2025-06-30"
      ]
     },
     "execution_count": 28,
     "metadata": {},
     "output_type": "execute_result"
    }
   ],
   "source": [
    "print(df_scrape.head())\n",
    "\n",
    "df = df_scrape.copy()\n",
    "#Convert location to string\n",
    "if 'Location' in df.columns:\n",
    "    df['Location'] = df['Location'].astype('str')\n",
    "\n",
    "# Convert date to datetime\n",
    "if 'Population' in df.columns:\n",
    "    df['Population'] = df['Population'].str.replace(',','').astype('int64')\n",
    "\n",
    "# Standardize categorical column\n",
    "if '% ofworld' in df.columns:\n",
    "    df['% ofworld'] = df['% ofworld'].str.replace('%','').astype('float64')\n",
    "\n",
    "if 'Date' in df.columns:\n",
    "    df['Date'] = pd.to_datetime(df['Date'], errors='coerce')\n",
    "df = df.drop(columns=[\"Source (official or fromtheUnited Nations)\",\"Notes\"])\n",
    "df.head()"
   ]
  },
  {
   "cell_type": "code",
   "execution_count": 29,
   "id": "f50fa003-fdf3-41d2-bd4a-ba3790ebde6c",
   "metadata": {},
   "outputs": [
    {
     "name": "stdout",
     "output_type": "stream",
     "text": [
      "Successfully saved file to:  ../data/raw\n"
     ]
    }
   ],
   "source": [
    "# Save CSV\n",
    "fname = get_filename(\"scrape\",{'site':url, 'table':\"List of countries and territories by total population\"},\"csv\")\n",
    "write_df( df, False, \"csv\", fname )"
   ]
  },
  {
   "cell_type": "markdown",
   "id": "c22d4c6d-2263-4aba-a21f-dc7002e92343",
   "metadata": {},
   "source": [
    "# Documentation\n",
    " - Data source for AAPL market data - YFinance\n",
    " - Data source for country wise population data - Wikipedia(https://en.wikipedia.org/wiki/List_of_countries_and_dependencies_by_population)\n",
    " - Validation logic for stock price data is given in validate_df in utils.py, moreover columsn are checked for completeness and columns are typecasted into correct data types.\n",
    " - Assumption & risk\n",
    "   1. YFinance often throttles the user, which may result in empty data from the api\n",
    "   2. The validations are tightly coupled with source data, any change in the api or the wikipedia page may break the code"
   ]
  }
 ],
 "metadata": {
  "kernelspec": {
   "display_name": "Python 3 (ipykernel)",
   "language": "python",
   "name": "python3"
  },
  "language_info": {
   "codemirror_mode": {
    "name": "ipython",
    "version": 3
   },
   "file_extension": ".py",
   "mimetype": "text/x-python",
   "name": "python",
   "nbconvert_exporter": "python",
   "pygments_lexer": "ipython3",
   "version": "3.11.13"
  }
 },
 "nbformat": 4,
 "nbformat_minor": 5
}
