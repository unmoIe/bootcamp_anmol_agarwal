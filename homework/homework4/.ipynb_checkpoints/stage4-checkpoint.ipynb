{
 "cells": [
  {
   "cell_type": "markdown",
   "id": "0d05ce8c-c91a-4c51-88e6-6f341b0406ac",
   "metadata": {},
   "source": [
    "# Homework-4\n",
    "API Pull"
   ]
  },
  {
   "cell_type": "code",
   "execution_count": 1,
   "id": "f08988bf-5d9a-4225-bd9e-2bf8c0f43d87",
   "metadata": {},
   "outputs": [
    {
     "name": "stdout",
     "output_type": "stream",
     "text": [
      "YF.download() has changed argument auto_adjust default to True\n"
     ]
    },
    {
     "name": "stderr",
     "output_type": "stream",
     "text": [
      "[*********************100%***********************]  1 of 1 completed\n"
     ]
    }
   ],
   "source": [
    "import yfinance as yf\n",
    "import requests\n",
    "import os\n",
    "from dotenv import load_dotenv\n",
    "import time\n",
    "from utils import getApiKey\n",
    "\n",
    "api_key = getApiKey()\n",
    "# ticker = \"AAPL\"\n",
    "# url = \"https://www.alphavantage.co/query\"\n",
    "# params = {\n",
    "#         \"function\": \"TIME_SERIES_DAILY_ADJUSTED\",\n",
    "#         \"symbol\": ticker,\n",
    "#         \"outputsize\": \"compact\",\n",
    "#         \"apikey\": api_key,\n",
    "#         \"datatype\": \"json\"\n",
    "# }\n",
    "# r = requests.get(url, params=params, timeout=30)\n",
    "# print(r.json())\n",
    "data = yf.download(\"AAPL\", period=\"1mo\")\n",
    "\n",
    "# flag = True\n",
    "# while flag:\n",
    "#     try:\n",
    "#         data = yf.Ticker(ticker).history(period='1d')\n",
    "#         flag = False\n",
    "#         print(\"lol\")\n",
    "#     except Exception as e:\n",
    "#         print(\"Rate limited trying again\")\n",
    "#         time.sleep(5)      \n",
    "# print(data)"
   ]
  },
  {
   "cell_type": "code",
   "execution_count": 2,
   "id": "4c0da0c8-ac3d-4199-af2c-7f22f3081732",
   "metadata": {},
   "outputs": [],
   "source": [
    "data = data.reset_index()"
   ]
  },
  {
   "cell_type": "code",
   "execution_count": 3,
   "id": "3d9497ea-0f81-4033-8f64-e8a443f31082",
   "metadata": {},
   "outputs": [],
   "source": [
    "#print(data.dtypes.to_dict())\n",
    "dtypes_map = { k[0]:v for k,v in data.dtypes.to_dict().items() }"
   ]
  },
  {
   "cell_type": "code",
   "execution_count": 5,
   "id": "6ef1fcc6-e4d9-4256-9480-3412cad9a366",
   "metadata": {},
   "outputs": [],
   "source": [
    "from utils import validate_df\n",
    "from utils import save_filename\n",
    "\n",
    "msgs = validate_df( data, [\"Date\", \"Close\", \"High\", \"Low\", \"Open\", \"Volume\"], dtypes_map )\n",
    "\n",
    "# Ensure folder exists\n",
    "os.makedirs(\"data/raw\", exist_ok=True)\n",
    "\n",
    "# Save CSV\n",
    "fname = save_filename(\"api\",{'source':\"YFinance\", 'ticker':\"AAPL\"})\n",
    "data.to_csv(f\"data/raw/{fname}\", index=False)"
   ]
  },
  {
   "cell_type": "markdown",
   "id": "5c1a3de1-d5b8-468b-b902-aa040ea5d2ef",
   "metadata": {},
   "source": [
    "Scrape a small table"
   ]
  },
  {
   "cell_type": "code",
   "execution_count": null,
   "id": "1f0e0b69-2c67-47e8-9f9e-0b48acb02d57",
   "metadata": {},
   "outputs": [],
   "source": [
    "import pandas as pd\n",
    "from bs4 import BeautifulSoup\n",
    "import pdb\n",
    "url = \"https://en.wikipedia.org/wiki/List_of_countries_and_dependencies_by_population\"\n",
    "\n",
    "try:\n",
    "    # Step 1: Get HTML\n",
    "    resp = requests.get(url)\n",
    "    resp.raise_for_status()\n",
    "    \n",
    "    # Step 2: Parse HTML\n",
    "    soup = BeautifulSoup(resp.text, \"html.parser\")\n",
    "    \n",
    "    # Step 3: Select the first wikitable\n",
    "    table = soup.find(\"table\", {\"class\": \"wikitable\"})\n",
    "    \n",
    "    # Step 4: Extract rows\n",
    "    rows = []\n",
    "    for tr in table.find_all('tr'):\n",
    "        # Get all 'th' and 'td' cells\n",
    "        cells = [k.get_text(strip=True) for k in tr.find_all(['th', 'td'])]\n",
    "        if cells:\n",
    "            rows.append(cells)\n",
    "    # Use the first row as header\n",
    "    header = rows[0]\n",
    "    \n",
    "    # Normalize each data row to match header length\n",
    "    data = []\n",
    "    for row in rows[1:]:\n",
    "        if len(row) < len(header):\n",
    "            row += [\"\"] * (len(header) - len(row))  # pad missing cells\n",
    "        elif len(row) > len(header):\n",
    "            row = row[:len(header)]  # truncate extra cells\n",
    "        data.append(row)\n",
    "    \n",
    "    # Step 6: Create DataFrame\n",
    "    df_scrape = pd.DataFrame(data, columns=header)\n",
    "except Exception as e:\n",
    "    print(\"Error:\", e)\n",
    "    "
   ]
  },
  {
   "cell_type": "code",
   "execution_count": null,
   "id": "ffbabee2-f58a-4fdd-8004-057b0aa40e04",
   "metadata": {},
   "outputs": [],
   "source": [
    "print(df_scrape.head())\n",
    "\n",
    "# validate_df( df_scrape, \n",
    "# ['Location', 'Population', '% ofworld','Date', 'Source (official or fromtheUnited Nations)','Notes'], \n",
    "# { 'Location' : 'str', 'Population' : 'int64', '% ofworld' : \n",
    "df = df_scrape.copy()\n",
    "\n",
    "#Convert location to string\n",
    "if 'Location' in df.columns:\n",
    "    df['Location'] = df['Location'].astype('str')\n",
    "\n",
    "# Convert date to datetime\n",
    "if 'Population' in df.columns:\n",
    "    df['Population'] = df['Population'].str.replace(',','').astype('int64')\n",
    "\n",
    "# Standardize categorical column\n",
    "if '% ofworld' in df.columns:\n",
    "    df['% ofworld'] = df['% ofworld'].str.replace('%','').astype('float64')\n",
    "\n",
    "if 'Date' in df.columns:\n",
    "    df['Date'] = pd.to_datetime(df['Date'], errors='coerce')\n",
    "df = df.drop(columns=[\"Source (official or fromtheUnited Nations)\",\"Notes\"])"
   ]
  },
  {
   "cell_type": "code",
   "execution_count": null,
   "id": "1c6fd549-b3f1-4fc5-9390-f1fc4c98a5cc",
   "metadata": {},
   "outputs": [],
   "source": [
    "from utils import save_filename\n",
    "\n",
    "# Save CSV\n",
    "fname = save_filename(\"scrape\",{'site':url, 'table':\"List of countries and territories by total population\"})\n",
    "df.to_csv(f\"data/raw/{fname}\", index=False)\n",
    "\n"
   ]
  },
  {
   "cell_type": "code",
   "execution_count": null,
   "id": "cd0bbbdf-8e3a-4aa4-ab55-3143d877c107",
   "metadata": {},
   "outputs": [],
   "source": []
  }
 ],
 "metadata": {
  "kernelspec": {
   "display_name": "Python 3 (ipykernel)",
   "language": "python",
   "name": "python3"
  },
  "language_info": {
   "codemirror_mode": {
    "name": "ipython",
    "version": 3
   },
   "file_extension": ".py",
   "mimetype": "text/x-python",
   "name": "python",
   "nbconvert_exporter": "python",
   "pygments_lexer": "ipython3",
   "version": "3.11.13"
  }
 },
 "nbformat": 4,
 "nbformat_minor": 5
}
