{
 "cells": [
  {
   "cell_type": "markdown",
   "id": "5d18d2bb-5b09-4855-b357-568886adb7f8",
   "metadata": {},
   "source": [
    "# Homework Sheet — Stage 03: Python Fundamentals\n",
    "## NumPy Operations\n",
    " - Create an array and perform elementwise operations.\n",
    " - Compare loop vs vectorized execution."
   ]
  },
  {
   "cell_type": "code",
   "execution_count": null,
   "id": "69594550-b058-43a0-9db2-babccd2fe6ef",
   "metadata": {},
   "outputs": [],
   "source": [
    "import numpy as np\n",
    "import time\n",
    "\n",
    "list = [1,2,3,4,5]\n",
    "arr = np.array(list)\n",
    "\n",
    "big_arr = np.random.rand(100000000)\n",
    "\n",
    "a = np.zeros_like(big_arr)\n",
    "start = time.time()\n",
    "#Array wise operation - multiple by 2\n",
    "for i in range(len(big_arr)):\n",
    "    a[i] = big_arr[i]*2\n",
    "end = time.time()\n",
    "print(\"Loop time:\", end-start)\n",
    "\n",
    "start = time.time()\n",
    "#vectorized operation\n",
    "b = big_arr * 2\n",
    "end = time.time()\n",
    "print(\"Vectorized time:\", end-start)\n"
   ]
  },
  {
   "cell_type": "markdown",
   "id": "865e8bb1-b231-4269-b359-7821955f941b",
   "metadata": {},
   "source": [
    "## Dataset Loading\n",
    "- Load provided CSV (data/starter_data.csv) using pandas.\n",
    "- Inspect with .info() and .head()."
   ]
  },
  {
   "cell_type": "code",
   "execution_count": null,
   "id": "3459fb83-ebb7-4fd8-b61d-dc49a6c3098a",
   "metadata": {},
   "outputs": [],
   "source": [
    "import pandas as pd\n",
    "\n",
    "data = pd.read_csv('data/starter_data.csv')\n",
    "data.info()\n",
    "data.head()"
   ]
  },
  {
   "cell_type": "markdown",
   "id": "1e834a7c-559b-476f-86cc-797aeb31761b",
   "metadata": {},
   "source": [
    "## Summary Statistics\n",
    "- Calculate .describe() for numeric columns.\n",
    "- Perform .groupby() aggregation by category."
   ]
  },
  {
   "cell_type": "code",
   "execution_count": null,
   "id": "a60f2754-ec7b-42d8-ab94-34c2a68e764f",
   "metadata": {},
   "outputs": [],
   "source": [
    "from src.utils import get_summary_stats\n",
    "\n",
    "print(data.describe())\n",
    "summary = get_summary_stats(data,\"category\",\"value\")\n",
    "\n",
    "#other group by operations\n",
    "groupby_category_minDate = data.groupby(\"category\")[\"date\"].min()\n",
    "groupby_category_maxDate = data.groupby(\"category\")[\"date\"].max()"
   ]
  },
  {
   "cell_type": "markdown",
   "id": "bf07f447-f130-48cf-a6e3-dd922e43f94e",
   "metadata": {},
   "source": [
    "## Save Output\n",
    " -  save summary stats to data/processed/summary.csv\n",
    " -  create and save a basic plot"
   ]
  },
  {
   "cell_type": "code",
   "execution_count": null,
   "id": "0c5ff76d-b13e-4bcd-bcdc-46240c42b519",
   "metadata": {},
   "outputs": [],
   "source": [
    "import os\n",
    "import matplotlib.pyplot as plt\n",
    "\n",
    "#if folder doesnt exist create folder\n",
    "os.makedirs('data/processed', exist_ok=True)\n",
    "groupby_category_valueMean.to_csv('data/processed/summary.csv', index=False)\n",
    "\n",
    "#plot and save\n",
    "data['value'].hist()\n",
    "plt.savefig('data/processed/histogram.png')"
   ]
  },
  {
   "cell_type": "code",
   "execution_count": null,
   "id": "d6d224d9-a73e-4227-9ffd-0e6edc6883eb",
   "metadata": {},
   "outputs": [],
   "source": []
  }
 ],
 "metadata": {
  "kernelspec": {
   "display_name": "Python 3 (ipykernel)",
   "language": "python",
   "name": "python3"
  },
  "language_info": {
   "codemirror_mode": {
    "name": "ipython",
    "version": 3
   },
   "file_extension": ".py",
   "mimetype": "text/x-python",
   "name": "python",
   "nbconvert_exporter": "python",
   "pygments_lexer": "ipython3",
   "version": "3.11.13"
  }
 },
 "nbformat": 4,
 "nbformat_minor": 5
}
