{
 "cells": [
  {
   "cell_type": "markdown",
   "id": "bc668b30-1f7a-4bd3-a225-d222b38f6da0",
   "metadata": {},
   "source": [
    "# Environment & Config Check\n",
    "## This is smaller\n",
    "### Even smaller"
   ]
  },
  {
   "cell_type": "code",
   "execution_count": 5,
   "id": "034b8ae8-c815-4d21-a8d0-a7b972e2dda5",
   "metadata": {},
   "outputs": [
    {
     "name": "stdout",
     "output_type": "stream",
     "text": [
      "API_KEY found: dummy_key_123\n",
      "Array: [1 2 3 4 5]\n",
      "Array mean: 3.0\n"
     ]
    }
   ],
   "source": [
    "from src.config import load_env, get_key\n",
    "from dotenv import load_dotenv\n",
    "\n",
    "load_dotenv()\n",
    "\n",
    "try:\n",
    "    api_key = get_key(\"API_KEY\")\n",
    "    print(f\"API_KEY found: {api_key}\")\n",
    "except KeyError:\n",
    "    print(\"API_KEY not found!\")\n",
    "\n",
    "import numpy as np\n",
    "arr = np.array([1, 2, 3, 4, 5])\n",
    "print(\"Array:\", arr)\n",
    "print(\"Array mean:\", arr.mean())\n",
    "    "
   ]
  },
  {
   "cell_type": "code",
   "execution_count": 3,
   "id": "a38416a3-ba2b-495e-9c5e-cab245e1a4bb",
   "metadata": {},
   "outputs": [
    {
     "ename": "KeyError",
     "evalue": "\"Environment variable 'API_KEY' not found.\"",
     "output_type": "error",
     "traceback": [
      "\u001b[31m---------------------------------------------------------------------------\u001b[39m",
      "\u001b[31mKeyError\u001b[39m                                  Traceback (most recent call last)",
      "\u001b[36mCell\u001b[39m\u001b[36m \u001b[39m\u001b[32mIn[3]\u001b[39m\u001b[32m, line 1\u001b[39m\n\u001b[32m----> \u001b[39m\u001b[32m1\u001b[39m \u001b[43mget_key\u001b[49m\u001b[43m(\u001b[49m\u001b[33;43m\"\u001b[39;49m\u001b[33;43mAPI_KEY\u001b[39;49m\u001b[33;43m\"\u001b[39;49m\u001b[43m)\u001b[49m\n",
      "\u001b[36mFile \u001b[39m\u001b[32m~/bootcamp_anmol_agarwal/homework/homework2/src/config.py:10\u001b[39m, in \u001b[36mget_key\u001b[39m\u001b[34m(key)\u001b[39m\n\u001b[32m      8\u001b[39m value = os.getenv(key)\n\u001b[32m      9\u001b[39m \u001b[38;5;28;01mif\u001b[39;00m value \u001b[38;5;129;01mis\u001b[39;00m \u001b[38;5;28;01mNone\u001b[39;00m:\n\u001b[32m---> \u001b[39m\u001b[32m10\u001b[39m     \u001b[38;5;28;01mraise\u001b[39;00m \u001b[38;5;167;01mKeyError\u001b[39;00m(\u001b[33mf\u001b[39m\u001b[33m\"\u001b[39m\u001b[33mEnvironment variable \u001b[39m\u001b[33m'\u001b[39m\u001b[38;5;132;01m{\u001b[39;00mkey\u001b[38;5;132;01m}\u001b[39;00m\u001b[33m'\u001b[39m\u001b[33m not found.\u001b[39m\u001b[33m\"\u001b[39m)\n\u001b[32m     11\u001b[39m \u001b[38;5;28;01mreturn\u001b[39;00m value\n",
      "\u001b[31mKeyError\u001b[39m: \"Environment variable 'API_KEY' not found.\""
     ]
    }
   ],
   "source": [
    "get_key(\"API_KEY\")"
   ]
  },
  {
   "cell_type": "code",
   "execution_count": null,
   "id": "b4ee7512-82d0-4a21-9f82-4596ca9b559e",
   "metadata": {},
   "outputs": [],
   "source": []
  }
 ],
 "metadata": {
  "kernelspec": {
   "display_name": "Python 3 (ipykernel)",
   "language": "python",
   "name": "python3"
  },
  "language_info": {
   "codemirror_mode": {
    "name": "ipython",
    "version": 3
   },
   "file_extension": ".py",
   "mimetype": "text/x-python",
   "name": "python",
   "nbconvert_exporter": "python",
   "pygments_lexer": "ipython3",
   "version": "3.11.13"
  }
 },
 "nbformat": 4,
 "nbformat_minor": 5
}
