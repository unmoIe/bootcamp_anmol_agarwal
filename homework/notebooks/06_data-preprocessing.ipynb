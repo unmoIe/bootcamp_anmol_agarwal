{
 "cells": [
  {
   "cell_type": "code",
   "execution_count": 5,
   "id": "2ce72100-60da-459a-8b4e-c1857ebdb348",
   "metadata": {},
   "outputs": [
    {
     "name": "stdout",
     "output_type": "stream",
     "text": [
      "Successfully saved file to:  ../data/raw\n"
     ]
    }
   ],
   "source": [
    "import numpy as np\n",
    "import pandas as pd\n",
    "import sys\n",
    "sys.path.append(\"..\")\n",
    "from src.utils import *\n",
    "from src.cleaning import *\n",
    "\n",
    "# Define the sample data\n",
    "data = {\n",
    "    'age': [34, 45, 29, 50, 38, np.nan, 41],\n",
    "    'income': [55000, np.nan, 42000, 58000, np.nan, np.nan, 49000],\n",
    "    'score': [0.82, 0.91, np.nan, 0.76, 0.88, 0.65, 0.79],\n",
    "    'zipcode': ['90210', '10001', '60614', '94103', '73301', '12345', '94105'],\n",
    "    'city': ['Beverly', 'New York', 'Chicago', 'SF', 'Austin', 'Unknown', 'San Francisco'],\n",
    "    'extra_data': [np.nan, 42, np.nan, np.nan, np.nan, 5, np.nan]\n",
    "}\n",
    "\n",
    "# Create DataFrame\n",
    "df = pd.DataFrame(data)\n",
    "\n",
    "#save data to sample_data.csv\n",
    "write_df( df, False,\"csv\",\"sample_data.csv\" )"
   ]
  },
  {
   "cell_type": "code",
   "execution_count": 6,
   "id": "6ad3628a-e41b-4fe6-9d2f-f89d45e33f81",
   "metadata": {},
   "outputs": [
    {
     "name": "stdout",
     "output_type": "stream",
     "text": [
      "Successfully saved file to:  ../data/processed\n"
     ]
    }
   ],
   "source": [
    "#load data\n",
    "data = read_df( False, \"csv\",\"sample_data.csv\" )\n",
    "\n",
    "#Apply cleaning functions\n",
    "df = fill_missing_median(df, ['age','income','extra_data'])\n",
    "df = drop_missing(df, threshold=0.5)\n",
    "df = normalize_data(df)\n",
    "\n",
    "#save cleaned data\n",
    "write_df( df, True,\"csv\",\"sample_data_cleaned.csv\" )"
   ]
  },
  {
   "cell_type": "markdown",
   "id": "f0f1f5e0-9d51-4e0a-9e82-7f36b8ca6115",
   "metadata": {},
   "source": [
    "# Compare original vs cleaned data"
   ]
  },
  {
   "cell_type": "code",
   "execution_count": 7,
   "id": "9fa8db7d-d4f0-4dcd-8675-6ca68d95a27c",
   "metadata": {},
   "outputs": [
    {
     "name": "stdout",
     "output_type": "stream",
     "text": [
      "Original data:\n",
      "    age   income  score  zipcode           city  extra_data\n",
      "0  34.0  55000.0   0.82    90210        Beverly         NaN\n",
      "1  45.0      NaN   0.91    10001       New York        42.0\n",
      "2  29.0  42000.0    NaN    60614        Chicago         NaN\n",
      "3  50.0  58000.0   0.76    94103             SF         NaN\n",
      "4  38.0      NaN   0.88    73301         Austin         NaN\n",
      "5   NaN      NaN   0.65    12345        Unknown         5.0\n",
      "6  41.0  49000.0   0.79    94105  San Francisco         NaN\n",
      "Cleaned data:\n",
      "        age  income     score zipcode           city  extra_data\n",
      "0  0.238095  0.8125  0.653846   90210        Beverly         0.5\n",
      "1  0.761905  0.6250  1.000000   10001       New York         1.0\n",
      "2  0.000000  0.0000       NaN   60614        Chicago         0.5\n",
      "3  1.000000  1.0000  0.423077   94103             SF         0.5\n",
      "4  0.428571  0.6250  0.884615   73301         Austin         0.5\n",
      "5  0.500000  0.6250  0.000000   12345        Unknown         0.0\n",
      "6  0.571429  0.4375  0.538462   94105  San Francisco         0.5\n"
     ]
    }
   ],
   "source": [
    "print(\"Original data:\")\n",
    "print(data.head(10))\n",
    "print(\"Cleaned data:\")\n",
    "print(df.head(10))"
   ]
  }
 ],
 "metadata": {
  "kernelspec": {
   "display_name": "Python 3 (ipykernel)",
   "language": "python",
   "name": "python3"
  },
  "language_info": {
   "codemirror_mode": {
    "name": "ipython",
    "version": 3
   },
   "file_extension": ".py",
   "mimetype": "text/x-python",
   "name": "python",
   "nbconvert_exporter": "python",
   "pygments_lexer": "ipython3",
   "version": "3.11.13"
  }
 },
 "nbformat": 4,
 "nbformat_minor": 5
}
