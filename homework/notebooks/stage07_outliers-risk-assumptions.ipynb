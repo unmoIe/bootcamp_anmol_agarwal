{
 "cells": [
  {
   "cell_type": "markdown",
   "id": "52609e90-3b5d-4033-b2e4-502824d3776e",
   "metadata": {},
   "source": [
    "# Stage 7 Homework — Outliers + Risk Assumptions\n",
    "In this assignment you will implement outlier detection/handling and run a simple sensitivity analysis.\n",
    "\n",
    "**Chain:** In the lecture, we learned detection (IQR, Z-score), options for handling (remove/winsorize), and sensitivity testing. Now, you will adapt those methods to a provided dataset and document the risks and assumptions behind your choices."
   ]
  },
  {
   "cell_type": "code",
   "execution_count": 2,
   "id": "3d6d2203-42b1-4954-bf28-f8d0b00b5794",
   "metadata": {},
   "outputs": [],
   "source": [
    "# Setup\n",
    "import numpy as np\n",
    "import pandas as pd\n",
    "import matplotlib.pyplot as plt\n",
    "from pathlib import Path\n",
    "from sklearn.linear_model import LinearRegression\n",
    "from sklearn.metrics import mean_absolute_error, r2_score\n",
    "np.random.seed(17)"
   ]
  },
  {
   "cell_type": "code",
   "execution_count": 3,
   "id": "dc50d18d-04f9-4140-bb9f-3ab8a2adb19d",
   "metadata": {},
   "outputs": [],
   "source": [
    "data_path = Path('data/raw/outliers_homework.csv')\n",
    "if data_path.exists():\n",
    "    df = pd.read_csv(data_path)\n",
    "else:\n",
    "    # Synthetic fallback: linear trend with noise and a few extremes\n",
    "    x = np.linspace(0, 10, 200)\n",
    "    y = 2.2 * x + 1 + np.random.normal(0, 1.2, size=x.size)\n",
    "    y[10] += 15; y[120] -= 13; y[160] += 18\n",
    "    df = pd.DataFrame({'x': x, 'y': y})"
   ]
  },
  {
   "cell_type": "code",
   "execution_count": 10,
   "id": "bf9b734d-f1f2-4ab0-aa58-c2609855b801",
   "metadata": {},
   "outputs": [
    {
     "data": {
      "text/html": [
       "<div>\n",
       "<style scoped>\n",
       "    .dataframe tbody tr th:only-of-type {\n",
       "        vertical-align: middle;\n",
       "    }\n",
       "\n",
       "    .dataframe tbody tr th {\n",
       "        vertical-align: top;\n",
       "    }\n",
       "\n",
       "    .dataframe thead th {\n",
       "        text-align: right;\n",
       "    }\n",
       "</style>\n",
       "<table border=\"1\" class=\"dataframe\">\n",
       "  <thead>\n",
       "    <tr style=\"text-align: right;\">\n",
       "      <th></th>\n",
       "      <th>all</th>\n",
       "      <th>filtered_iqr</th>\n",
       "      <th>winsorized</th>\n",
       "    </tr>\n",
       "  </thead>\n",
       "  <tbody>\n",
       "    <tr>\n",
       "      <th>mean</th>\n",
       "      <td>12.171936</td>\n",
       "      <td>12.047851</td>\n",
       "      <td>12.119643</td>\n",
       "    </tr>\n",
       "    <tr>\n",
       "      <th>median</th>\n",
       "      <td>12.349663</td>\n",
       "      <td>12.285113</td>\n",
       "      <td>12.349663</td>\n",
       "    </tr>\n",
       "    <tr>\n",
       "      <th>std</th>\n",
       "      <td>6.761378</td>\n",
       "      <td>6.546157</td>\n",
       "      <td>6.386781</td>\n",
       "    </tr>\n",
       "  </tbody>\n",
       "</table>\n",
       "</div>"
      ],
      "text/plain": [
       "              all  filtered_iqr  winsorized\n",
       "mean    12.171936     12.047851   12.119643\n",
       "median  12.349663     12.285113   12.349663\n",
       "std      6.761378      6.546157    6.386781"
      ]
     },
     "execution_count": 10,
     "metadata": {},
     "output_type": "execute_result"
    }
   ],
   "source": [
    "target_col='y'\n",
    "# Option A: Summary stats\n",
    "summ_all = df[target_col].describe()[['mean', '50%', 'std']].rename({'50%': 'median'})\n",
    "summ_filtered = df.loc[~df['outliers_iqr_y'], target_col].describe()[['mean', '50%', 'std']].rename({'50%': 'median'})\n",
    "summ_w = None\n",
    "if 'winsorize_series' in globals():\n",
    "    w = winsorize_series(df[target_col])\n",
    "    summ_w = w.describe()[['mean', '50%', 'std']].rename({'50%': 'median'})\n",
    "\n",
    "comp = pd.concat(\n",
    "    {\n",
    "        'all': summ_all,\n",
    "        'filtered_iqr': summ_filtered,\n",
    "        **({'winsorized': summ_w} if summ_w is not None else {})\n",
    "    }, axis=1\n",
    ")\n",
    "comp"
   ]
  },
  {
   "cell_type": "code",
   "execution_count": 11,
   "id": "ff4f7fbb-6d4b-44e6-af78-e304fe365cc6",
   "metadata": {},
   "outputs": [],
   "source": [
    "import sys\n",
    "sys.path.append(\"..\")\n",
    "from src.outliers import *\n",
    "\n",
    "df[\"outliers_iqr_y\"] = detect_outliers_iqr(df['y'],k=1.5)\n",
    "df[\"outliers_zscore\"] = detect_outliers_zscore(df['y'],threshold=3)\n",
    "df_w = df.copy()\n",
    "df_w['y_w'] = winsorize_series(df_w['y'], lower=0.05, upper=0.95)\n",
    "df_filtered = df.loc[~df['outliers_iqr_y'], ['x','y']].reset_index(drop=True)\n",
    "df_w = df.copy()\n",
    "df_w['y_w'] = winsorize_series(df_w['y'], lower=0.05, upper=0.95)"
   ]
  },
  {
   "cell_type": "code",
   "execution_count": 12,
   "id": "2e9fe03d-4e2d-43f7-b2e1-129ec03fef3c",
   "metadata": {},
   "outputs": [
    {
     "data": {
      "text/html": [
       "<div>\n",
       "<style scoped>\n",
       "    .dataframe tbody tr th:only-of-type {\n",
       "        vertical-align: middle;\n",
       "    }\n",
       "\n",
       "    .dataframe tbody tr th {\n",
       "        vertical-align: top;\n",
       "    }\n",
       "\n",
       "    .dataframe thead th {\n",
       "        text-align: right;\n",
       "    }\n",
       "</style>\n",
       "<table border=\"1\" class=\"dataframe\">\n",
       "  <thead>\n",
       "    <tr style=\"text-align: right;\">\n",
       "      <th></th>\n",
       "      <th>slope</th>\n",
       "      <th>intercept</th>\n",
       "      <th>r2</th>\n",
       "      <th>mae</th>\n",
       "    </tr>\n",
       "  </thead>\n",
       "  <tbody>\n",
       "    <tr>\n",
       "      <th>all</th>\n",
       "      <td>2.169679</td>\n",
       "      <td>1.323542</td>\n",
       "      <td>0.871082</td>\n",
       "      <td>1.200432</td>\n",
       "    </tr>\n",
       "    <tr>\n",
       "      <th>filtered_iqr</th>\n",
       "      <td>2.136650</td>\n",
       "      <td>1.397242</td>\n",
       "      <td>0.900777</td>\n",
       "      <td>1.118809</td>\n",
       "    </tr>\n",
       "    <tr>\n",
       "      <th>winsorized</th>\n",
       "      <td>2.095902</td>\n",
       "      <td>1.640134</td>\n",
       "      <td>0.910996</td>\n",
       "      <td>1.051938</td>\n",
       "    </tr>\n",
       "  </tbody>\n",
       "</table>\n",
       "</div>"
      ],
      "text/plain": [
       "                 slope  intercept        r2       mae\n",
       "all           2.169679   1.323542  0.871082  1.200432\n",
       "filtered_iqr  2.136650   1.397242  0.900777  1.118809\n",
       "winsorized    2.095902   1.640134  0.910996  1.051938"
      ]
     },
     "execution_count": 12,
     "metadata": {},
     "output_type": "execute_result"
    }
   ],
   "source": [
    "import numpy as np\n",
    "\n",
    "def fit_and_metrics(X: np.ndarray, y: np.ndarray) -> dict:\n",
    "    model = LinearRegression()\n",
    "    model.fit(X, y)\n",
    "    y_hat = model.predict(X)\n",
    "    return {\n",
    "        'slope': float(model.coef_[0]),\n",
    "        'intercept': float(model.intercept_),\n",
    "        'r2': float(r2_score(y, y_hat)),\n",
    "        'mae': float(mean_absolute_error(y, y_hat))\n",
    "    }\n",
    "\n",
    "# All data\n",
    "m_all = fit_and_metrics(df[['x']].to_numpy(), df['y'].to_numpy())\n",
    "# Filtered (no IQR outliers)\n",
    "m_flt = fit_and_metrics(df_filtered[['x']].to_numpy(), df_filtered[\"y\"].to_numpy())\n",
    "# Winsorized\n",
    "m_win = fit_and_metrics(df[[\"x\"]].to_numpy(), df_w['y_w'].to_numpy())\n",
    "\n",
    "sens_table = pd.DataFrame([m_all, m_flt, m_win], index=['all', 'filtered_iqr', 'winsorized'])\n",
    "sens_table"
   ]
  },
  {
   "cell_type": "markdown",
   "id": "0abcb841-8bd0-455b-88a1-d905a3d8e972",
   "metadata": {},
   "source": [
    "## Which method(s) and thresholds you chose and why"
   ]
  },
  {
   "cell_type": "markdown",
   "id": "40ff840f-4672-4620-a3a1-a6eb2869b621",
   "metadata": {},
   "source": [
    " To remove outliers from the sample data we chose - \n",
    "  - IQR because it removes outlier data (< Q1-1.5*IQR or >Q3+1.5*IQR), threshold chosen is 1.5 because it appropriately captures most of the data in the centre, and ignores moderate outliers\n",
    "  - z-score because it removes extreme outlier data abs(z_score)>3, z_score = (x-u)/sigma\n",
    "  - Winsorization because it clips off data at lower/upper percentile, and replaces anything above/below with it. Upper threshold is 0.95 and lower threshold is 0.05"
   ]
  },
  {
   "cell_type": "markdown",
   "id": "133d77ad-aaf5-4b2f-b6e5-5cab94f19b71",
   "metadata": {},
   "source": [
    "## Assumptions behind your choices"
   ]
  },
  {
   "cell_type": "markdown",
   "id": "8c50610c-0b72-4968-891e-7e2330a3dc03",
   "metadata": {},
   "source": [
    " - IQR -> sample distribution is unimodal, symmetric and not necessarily gaussian\n",
    " - Z-Score -> sample distribution is approximately normal\n",
    " - Winsorize -> extreme values are likely noise and not true representation of data, if sample data size is small then its better to replace outliers than dropping them"
   ]
  },
  {
   "cell_type": "markdown",
   "id": "ce909f51-6814-4519-83c2-026dc6a1a98c",
   "metadata": {},
   "source": [
    "## Observed impacts on results"
   ]
  },
  {
   "cell_type": "markdown",
   "id": "bc82b5c4-9d83-4e84-9c9d-e7d4bb32dde0",
   "metadata": {},
   "source": [
    " - Observed that winsorization has the highest r2 and lowest mae, which suggests outliers are likely just noise and not true representation of data\n",
    " - Data filtered based on IQR changes mean, median, and std_dev much more than it changes for winsorization which comes from dropping the extreme data points"
   ]
  },
  {
   "cell_type": "markdown",
   "id": "57cb56f7-b0ae-4bd8-ac93-1bcd1e1d0c32",
   "metadata": {},
   "source": [
    "## Risks if assumptions are wrong."
   ]
  },
  {
   "cell_type": "markdown",
   "id": "c6dff2ee-3ff9-44de-b4fb-56926fcacc7c",
   "metadata": {},
   "source": [
    "- IQR -> If data is fat-tailed, there is a chance of dropping a significant chunk of data.\n",
    "- Z-score -> Sensitive to skewness and if the data is not approximately normal then our assumption fails.\n",
    "- Winsorize -> This may create an unwanted bias as we replace outliers with a threshold value"
   ]
  },
  {
   "cell_type": "code",
   "execution_count": null,
   "id": "9c7df632-4d3d-491f-a0a3-03d094019f47",
   "metadata": {},
   "outputs": [],
   "source": []
  }
 ],
 "metadata": {
  "kernelspec": {
   "display_name": "Python 3 (ipykernel)",
   "language": "python",
   "name": "python3"
  },
  "language_info": {
   "codemirror_mode": {
    "name": "ipython",
    "version": 3
   },
   "file_extension": ".py",
   "mimetype": "text/x-python",
   "name": "python",
   "nbconvert_exporter": "python",
   "pygments_lexer": "ipython3",
   "version": "3.11.13"
  }
 },
 "nbformat": 4,
 "nbformat_minor": 5
}
