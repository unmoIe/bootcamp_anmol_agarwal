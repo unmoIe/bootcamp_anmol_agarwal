{
 "cells": [
  {
   "cell_type": "markdown",
   "id": "8e4c6ea9-f805-44a9-a252-ed41ffaf0c74",
   "metadata": {},
   "source": [
    "# Homework Sheet — Stage 03: Python Fundamentals\n",
    "## NumPy Operations\n",
    " - Create an array and perform elementwise operations.\n",
    " - Compare loop vs vectorized execution."
   ]
  },
  {
   "cell_type": "code",
   "execution_count": 5,
   "id": "12280d32-5d4c-4ad1-9d4a-0014c6e65d0f",
   "metadata": {},
   "outputs": [
    {
     "name": "stdout",
     "output_type": "stream",
     "text": [
      "Comparing Loop vs vectorized execution\n",
      "Loop time: 7.711245059967041\n",
      "Vectorized time: 0.10018420219421387\n"
     ]
    }
   ],
   "source": [
    "import numpy as np\n",
    "import time\n",
    "import os\n",
    "import matplotlib.pyplot as plt\n",
    "import pandas as pd\n",
    "import sys\n",
    "sys.path.append(\"..\")\n",
    "from src.utils import * \n",
    "\n",
    "list = [1,2,3,4,5]\n",
    "arr = np.array(list)\n",
    "\n",
    "big_arr = np.random.rand(100000000)\n",
    "\n",
    "print(\"Comparing Loop vs vectorized execution\")\n",
    "a = np.zeros_like(big_arr)\n",
    "start = time.time()\n",
    "#Array wise operation - multiple by 2\n",
    "for i in range(len(big_arr)):\n",
    "    a[i] = big_arr[i]*2\n",
    "end = time.time()\n",
    "print(\"Loop time:\", end-start)\n",
    "\n",
    "start = time.time()\n",
    "#vectorized operation\n",
    "b = big_arr * 2\n",
    "end = time.time()\n",
    "print(\"Vectorized time:\", end-start)\n"
   ]
  },
  {
   "cell_type": "markdown",
   "id": "6bbfd8c0-86fb-4cc7-a0fb-29d6be31fe42",
   "metadata": {},
   "source": [
    "## Dataset Loading\n",
    "- Load provided CSV (data/starter_data.csv) using pandas.\n",
    "- Inspect with .info() and .head()."
   ]
  },
  {
   "cell_type": "code",
   "execution_count": 6,
   "id": "00189d1f-2868-4c3e-b64b-95060165978e",
   "metadata": {},
   "outputs": [
    {
     "name": "stdout",
     "output_type": "stream",
     "text": [
      "<class 'pandas.core.frame.DataFrame'>\n",
      "RangeIndex: 10 entries, 0 to 9\n",
      "Data columns (total 3 columns):\n",
      " #   Column    Non-Null Count  Dtype \n",
      "---  ------    --------------  ----- \n",
      " 0   category  10 non-null     object\n",
      " 1   value     10 non-null     int64 \n",
      " 2   date      10 non-null     object\n",
      "dtypes: int64(1), object(2)\n",
      "memory usage: 372.0+ bytes\n"
     ]
    },
    {
     "data": {
      "text/html": [
       "<div>\n",
       "<style scoped>\n",
       "    .dataframe tbody tr th:only-of-type {\n",
       "        vertical-align: middle;\n",
       "    }\n",
       "\n",
       "    .dataframe tbody tr th {\n",
       "        vertical-align: top;\n",
       "    }\n",
       "\n",
       "    .dataframe thead th {\n",
       "        text-align: right;\n",
       "    }\n",
       "</style>\n",
       "<table border=\"1\" class=\"dataframe\">\n",
       "  <thead>\n",
       "    <tr style=\"text-align: right;\">\n",
       "      <th></th>\n",
       "      <th>category</th>\n",
       "      <th>value</th>\n",
       "      <th>date</th>\n",
       "    </tr>\n",
       "  </thead>\n",
       "  <tbody>\n",
       "    <tr>\n",
       "      <th>0</th>\n",
       "      <td>A</td>\n",
       "      <td>10</td>\n",
       "      <td>2025-08-01</td>\n",
       "    </tr>\n",
       "    <tr>\n",
       "      <th>1</th>\n",
       "      <td>B</td>\n",
       "      <td>15</td>\n",
       "      <td>2025-08-02</td>\n",
       "    </tr>\n",
       "    <tr>\n",
       "      <th>2</th>\n",
       "      <td>A</td>\n",
       "      <td>12</td>\n",
       "      <td>2025-08-03</td>\n",
       "    </tr>\n",
       "    <tr>\n",
       "      <th>3</th>\n",
       "      <td>B</td>\n",
       "      <td>18</td>\n",
       "      <td>2025-08-04</td>\n",
       "    </tr>\n",
       "    <tr>\n",
       "      <th>4</th>\n",
       "      <td>C</td>\n",
       "      <td>25</td>\n",
       "      <td>2025-08-05</td>\n",
       "    </tr>\n",
       "  </tbody>\n",
       "</table>\n",
       "</div>"
      ],
      "text/plain": [
       "  category  value        date\n",
       "0        A     10  2025-08-01\n",
       "1        B     15  2025-08-02\n",
       "2        A     12  2025-08-03\n",
       "3        B     18  2025-08-04\n",
       "4        C     25  2025-08-05"
      ]
     },
     "execution_count": 6,
     "metadata": {},
     "output_type": "execute_result"
    }
   ],
   "source": [
    "data = read_df(False, \"csv\",\"starter_data.csv\")\n",
    "data.info()\n",
    "data.head()"
   ]
  },
  {
   "cell_type": "markdown",
   "id": "b0933225-36e2-4a57-83cd-3c3b02f8fe8d",
   "metadata": {},
   "source": [
    "## Summary Statistics\n",
    "- Calculate .describe() for numeric columns.\n",
    "- Perform .groupby() aggregation by category."
   ]
  },
  {
   "cell_type": "code",
   "execution_count": 7,
   "id": "d23d512b-dc7e-4024-9de8-0a711a6bdffa",
   "metadata": {},
   "outputs": [
    {
     "name": "stdout",
     "output_type": "stream",
     "text": [
      "           value\n",
      "count  10.000000\n",
      "mean   17.600000\n",
      "std     7.381659\n",
      "min    10.000000\n",
      "25%    12.250000\n",
      "50%    14.500000\n",
      "75%    23.250000\n",
      "max    30.000000\n"
     ]
    }
   ],
   "source": [
    "print(data.describe())\n",
    "summary = get_summary_stats(data,\"category\",\"value\")\n",
    "\n",
    "#other group by operations\n",
    "groupby_category_minDate = data.groupby(\"category\")[\"date\"].min()\n",
    "groupby_category_maxDate = data.groupby(\"category\")[\"date\"].max()"
   ]
  },
  {
   "cell_type": "markdown",
   "id": "4d7ea7cd-e894-48b2-a746-8592553c9352",
   "metadata": {},
   "source": [
    "## Save Output\n",
    " -  save summary stats to data/processed/summary.csv\n",
    " -  create and save a basic plot"
   ]
  },
  {
   "cell_type": "code",
   "execution_count": 8,
   "id": "09aa261d-6c0d-4a24-8add-a74dd7825762",
   "metadata": {},
   "outputs": [
    {
     "name": "stdout",
     "output_type": "stream",
     "text": [
      "Successfully saved file to:  ../data/processed\n"
     ]
    },
    {
     "data": {
      "image/png": "[encoded data removed]",
      "text/plain": [
       "<Figure size 640x480 with 1 Axes>"
      ]
     },
     "metadata": {},
     "output_type": "display_data"
    }
   ],
   "source": [
    "#if folder doesnt exist create folder and then save file\n",
    "file_name = \"summary.csv\"\n",
    "write_df( summary, True, \"csv\", file_name )\n",
    "\n",
    "#plot and save summary stats\n",
    "summary.hist()\n",
    "plt.savefig('../data/processed/histogram.png')"
   ]
  }
 ],
 "metadata": {
  "kernelspec": {
   "display_name": "Python 3 (ipykernel)",
   "language": "python",
   "name": "python3"
  },
  "language_info": {
   "codemirror_mode": {
    "name": "ipython",
    "version": 3
   },
   "file_extension": ".py",
   "mimetype": "text/x-python",
   "name": "python",
   "nbconvert_exporter": "python",
   "pygments_lexer": "ipython3",
   "version": "3.11.13"
  }
 },
 "nbformat": 4,
 "nbformat_minor": 5
}
