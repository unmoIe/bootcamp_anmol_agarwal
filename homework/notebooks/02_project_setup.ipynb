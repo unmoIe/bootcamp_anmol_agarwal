{
 "cells": [
  {
   "cell_type": "markdown",
   "id": "6f6d5549-e43f-4cbb-9928-2f136058200a",
   "metadata": {},
   "source": [
    "# Environment & Config Check\n",
    "## This is smaller\n",
    "### Even smaller"
   ]
  },
  {
   "cell_type": "code",
   "execution_count": 6,
   "id": "dcfeafc3-dc0e-4516-92d8-46f0d7f70bd5",
   "metadata": {},
   "outputs": [
    {
     "name": "stdout",
     "output_type": "stream",
     "text": [
      "API_KEY found: True\n",
      "Array: [1 2 3 4 5]\n",
      "Array mean: 3.0\n"
     ]
    }
   ],
   "source": [
    "import sys\n",
    "sys.path.append(\"..\")\n",
    "from src.config import load_env, get_key\n",
    "\n",
    "load_env()\n",
    "\n",
    "try:\n",
    "    api_key = get_key(\"API_KEY\")\n",
    "    print(f\"API_KEY found: {bool(api_key)}\")\n",
    "except KeyError:\n",
    "    print(\"API_KEY not found!\")\n",
    "\n",
    "import numpy as np\n",
    "arr = np.array([1, 2, 3, 4, 5])\n",
    "print(\"Array:\", arr)\n",
    "print(\"Array mean:\", arr.mean())\n",
    "    "
   ]
  }
 ],
 "metadata": {
  "kernelspec": {
   "display_name": "Python 3 (ipykernel)",
   "language": "python",
   "name": "python3"
  },
  "language_info": {
   "codemirror_mode": {
    "name": "ipython",
    "version": 3
   },
   "file_extension": ".py",
   "mimetype": "text/x-python",
   "name": "python",
   "nbconvert_exporter": "python",
   "pygments_lexer": "ipython3",
   "version": "3.11.13"
  }
 },
 "nbformat": 4,
 "nbformat_minor": 5
}
